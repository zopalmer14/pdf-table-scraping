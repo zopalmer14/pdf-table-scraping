{
 "cells": [
  {
   "cell_type": "markdown",
   "metadata": {},
   "source": [
    "### PDF Table Scraping \n",
    "\n",
    "**For research into the relationship between various socio-economic factors and countries' democracy scores over time**\n",
    "\n",
    "**By: Zach Palmer**"
   ]
  },
  {
   "cell_type": "code",
   "execution_count": 1,
   "metadata": {},
   "outputs": [],
   "source": [
    "# import in packages\n",
    "import pandas as pd\n",
    "import numpy as np\n",
    "import camelot as cl\n",
    "\n",
    "import matplotlib.pyplot as plt\n",
    "%matplotlib inline"
   ]
  },
  {
   "cell_type": "markdown",
   "metadata": {},
   "source": [
    "### 2007 Democracy Index"
   ]
  },
  {
   "cell_type": "code",
   "execution_count": 2,
   "metadata": {},
   "outputs": [],
   "source": [
    "# read the pdf and scrape the tables\n",
    "tables = cl.read_pdf('pdfs/democracy-index_2007.pdf', pages='3,4,5', flavor='stream', table_areas=['0,650,500,0'])"
   ]
  },
  {
   "cell_type": "code",
   "execution_count": 4,
   "metadata": {},
   "outputs": [],
   "source": [
    "# concatenate the tables together into one big dataframe\n",
    "merged_df = tables[0].df\n",
    "for i in range(1, len(tables)):\n",
    "    merged_df = pd.concat([merged_df, tables[i].df], ignore_index=True)\n",
    "\n",
    "# update the column headers\n",
    "merged_df.columns = [\n",
    "    'Country', 'Rank', 'Overall Score', \n",
    "    'Electoral Process and Pluralism', \n",
    "    'Functioning of Government',\n",
    "    'Political Participation',\n",
    "    'Political Culture',\n",
    "    'Civil Liberties'\n",
    "]"
   ]
  },
  {
   "cell_type": "code",
   "execution_count": null,
   "metadata": {},
   "outputs": [],
   "source": [
    "merged_df"
   ]
  },
  {
   "cell_type": "markdown",
   "metadata": {},
   "source": [
    "### 2008 Democracy Index\n",
    "\n",
    "**Need to fix countries whose names take up multiple rows**"
   ]
  },
  {
   "cell_type": "code",
   "execution_count": 7,
   "metadata": {},
   "outputs": [],
   "source": [
    "# read the pdf and scrape the tables\n",
    "first_table_08 = cl.read_pdf('pdfs/democracy-index_2008.pdf', pages='4', flavor='stream', table_areas=['0,560,550,0'])\n",
    "full_tables_08 = cl.read_pdf('pdfs/democracy-index_2008.pdf', pages='5,6,7', flavor='stream', table_areas=['0,700,550,0'])\n",
    "last_table_08 = cl.read_pdf('pdfs/democracy-index_2008.pdf', pages='8', flavor='stream', table_areas=['0,700,550,420'])"
   ]
  },
  {
   "cell_type": "markdown",
   "metadata": {},
   "source": [
    "### 2010 Democracy Index"
   ]
  },
  {
   "cell_type": "code",
   "execution_count": 9,
   "metadata": {},
   "outputs": [],
   "source": [
    "full_tables_10 = cl.read_pdf('pdfs/democracy-index_2010.pdf', pages='4,5,6,7,8', flavor='stream', table_areas=['0,560,550,50'])\n",
    "last_table_10 = cl.read_pdf('pdfs/democracy-index_2010.pdf', pages='9', flavor='stream', table_areas=['0,580,550,510'])"
   ]
  },
  {
   "cell_type": "code",
   "execution_count": 10,
   "metadata": {},
   "outputs": [],
   "source": [
    "# concatenate the tables together into one big dataframe\n",
    "merged_df_10 = full_tables_10[0].df\n",
    "for i in range(1, len(full_tables_10)):\n",
    "    merged_df_10 = pd.concat([merged_df_10, full_tables_10[i].df], ignore_index=True)\n",
    "\n",
    "# add the last table\n",
    "merged_df_10 = pd.concat([merged_df_10, last_table_10[0].df], ignore_index=True)\n",
    "\n",
    "# update the column headers\n",
    "merged_df_10.columns = [\n",
    "    'Country', 'Rank', 'Overall Score', \n",
    "    'Electoral Process and Pluralism', \n",
    "    'Functioning of Government',\n",
    "    'Political Participation',\n",
    "    'Political Culture',\n",
    "    'Civil Liberties'\n",
    "]"
   ]
  },
  {
   "cell_type": "code",
   "execution_count": null,
   "metadata": {},
   "outputs": [],
   "source": [
    "merged_df_10"
   ]
  },
  {
   "cell_type": "markdown",
   "metadata": {},
   "source": [
    "### 2011 Democracy Index"
   ]
  },
  {
   "cell_type": "code",
   "execution_count": 31,
   "metadata": {},
   "outputs": [],
   "source": [
    "# read the pdf and scrape the tables\n",
    "first_table_11 = cl.read_pdf('pdfs/democracy-index_2011.pdf', pages='4', flavor='stream', table_areas=['0,230,550,50'])\n",
    "full_tables_11 = cl.read_pdf('pdfs/democracy-index_2011.pdf', pages='5,6,7,8', flavor='stream', table_areas=['0,570,550,50'])\n",
    "last_table_11 = cl.read_pdf('pdfs/democracy-index_2011.pdf', pages='9', flavor='stream', table_areas=['0,570,550,200'])"
   ]
  },
  {
   "cell_type": "code",
   "execution_count": 36,
   "metadata": {},
   "outputs": [],
   "source": [
    "# concatenate the tables together into one big dataframe\n",
    "merged_df_11 = first_table_11[0].df\n",
    "for i in range(0, len(full_tables_11)):\n",
    "    merged_df_11 = pd.concat([merged_df_11, full_tables_11[i].df], ignore_index=True)\n",
    "\n",
    "# add the last table\n",
    "merged_df_11 = pd.concat([merged_df_11, last_table_11[0].df], ignore_index=True)\n",
    "\n",
    "# update the column headers\n",
    "merged_df_11.columns = [\n",
    "    'Country', 'Rank', 'Overall Score', \n",
    "    'Electoral Process and Pluralism', \n",
    "    'Functioning of Government',\n",
    "    'Political Participation',\n",
    "    'Political Culture',\n",
    "    'Civil Liberties'\n",
    "]"
   ]
  },
  {
   "cell_type": "code",
   "execution_count": null,
   "metadata": {},
   "outputs": [],
   "source": [
    "merged_df_11"
   ]
  },
  {
   "cell_type": "markdown",
   "metadata": {},
   "source": [
    "### 2012 Democracy Index"
   ]
  },
  {
   "cell_type": "code",
   "execution_count": 50,
   "metadata": {},
   "outputs": [],
   "source": [
    "# read the pdf and scrape the tables\n",
    "first_table_12 = cl.read_pdf('pdfs/democracy-index_2012.pdf', pages='4', flavor='stream', table_areas=['0,360,550,50'])\n",
    "full_tables_12 = cl.read_pdf('pdfs/democracy-index_2012.pdf', pages='5,6,7,8', flavor='stream', table_areas=['0,560,550,50'])\n",
    "last_table_12 = cl.read_pdf('pdfs/democracy-index_2012.pdf', pages='9', flavor='stream', table_areas=['0,560,550,260'])"
   ]
  },
  {
   "cell_type": "code",
   "execution_count": 57,
   "metadata": {},
   "outputs": [],
   "source": [
    "# concatenate the tables together into one big dataframe\n",
    "merged_df_12 = first_table_12[0].df\n",
    "for i in range(0, len(full_tables_12)):\n",
    "    merged_df_12 = pd.concat([merged_df_12, full_tables_12[i].df], ignore_index=True)\n",
    "\n",
    "# add the last table\n",
    "merged_df_12 = pd.concat([merged_df_12, last_table_12[0].df], ignore_index=True)\n",
    "\n",
    "# update the column headers\n",
    "merged_df_12.columns = [\n",
    "    'Country', 'Rank', 'Overall Score', \n",
    "    'Electoral Process and Pluralism', \n",
    "    'Functioning of Government',\n",
    "    'Political Participation',\n",
    "    'Political Culture',\n",
    "    'Civil Liberties'\n",
    "]"
   ]
  },
  {
   "cell_type": "code",
   "execution_count": null,
   "metadata": {},
   "outputs": [],
   "source": [
    "merged_df_12"
   ]
  },
  {
   "cell_type": "markdown",
   "metadata": {},
   "source": [
    "### 2013 Democracy Index"
   ]
  },
  {
   "cell_type": "code",
   "execution_count": 67,
   "metadata": {},
   "outputs": [],
   "source": [
    "# read the pdf and scrape the tables\n",
    "first_table_13 = cl.read_pdf('pdfs/democracy-index_2013.pdf', pages='4', flavor='stream', table_areas=['0,420,550,50'])\n",
    "full_tables_13 = cl.read_pdf('pdfs/democracy-index_2013.pdf', pages='5,6,7,8', flavor='stream', table_areas=['0,580,550,50'])\n",
    "last_table_13 = cl.read_pdf('pdfs/democracy-index_2013.pdf', pages='9', flavor='stream', table_areas=['0,580,550,400'])"
   ]
  },
  {
   "cell_type": "code",
   "execution_count": 77,
   "metadata": {},
   "outputs": [],
   "source": [
    "# concatenate the tables together into one big dataframe\n",
    "merged_df_13 = first_table_13[0].df\n",
    "for i in range(0, len(full_tables_13)):\n",
    "    merged_df_13 = pd.concat([merged_df_13, full_tables_13[i].df], ignore_index=True)\n",
    "\n",
    "# add the last table\n",
    "merged_df_13 = pd.concat([merged_df_13, last_table_13[0].df], ignore_index=True)\n",
    "\n",
    "# update the column headers\n",
    "merged_df_13.columns = [\n",
    "    'Country', 'Rank', 'Overall Score', \n",
    "    'Electoral Process and Pluralism', \n",
    "    'Functioning of Government',\n",
    "    'Political Participation',\n",
    "    'Political Culture',\n",
    "    'Civil Liberties'\n",
    "]"
   ]
  },
  {
   "cell_type": "code",
   "execution_count": null,
   "metadata": {},
   "outputs": [],
   "source": [
    "merged_df_13"
   ]
  },
  {
   "cell_type": "markdown",
   "metadata": {},
   "source": [
    "### 2014 Democracy Score"
   ]
  },
  {
   "cell_type": "code",
   "execution_count": 92,
   "metadata": {},
   "outputs": [],
   "source": [
    "first_table_14 = cl.read_pdf('pdfs/democracy-index_2014.pdf', pages='4', flavor='stream', table_areas=['0,140,550,50'])\n",
    "full_tables_14 = cl.read_pdf('pdfs/democracy-index_2014.pdf', pages='5,6,7,8,9', flavor='stream', table_areas=['0,570,550,70'])"
   ]
  },
  {
   "cell_type": "code",
   "execution_count": 99,
   "metadata": {},
   "outputs": [],
   "source": [
    "# concatenate the tables together into one big dataframe\n",
    "merged_df_14 = first_table_14[0].df\n",
    "for i in range(0, len(full_tables_14)):\n",
    "    merged_df_14 = pd.concat([merged_df_14, full_tables_14[i].df], ignore_index=True)\n",
    "\n",
    "# update the column headers\n",
    "merged_df_14.columns = [\n",
    "    'Country', 'Rank', 'Overall Score', \n",
    "    'Electoral Process and Pluralism', \n",
    "    'Functioning of Government',\n",
    "    'Political Participation',\n",
    "    'Political Culture',\n",
    "    'Civil Liberties'\n",
    "]"
   ]
  },
  {
   "cell_type": "code",
   "execution_count": null,
   "metadata": {},
   "outputs": [],
   "source": [
    "merged_df_14"
   ]
  },
  {
   "cell_type": "markdown",
   "metadata": {},
   "source": [
    "### 2015 Democracy Score"
   ]
  },
  {
   "cell_type": "code",
   "execution_count": 120,
   "metadata": {},
   "outputs": [],
   "source": [
    "full_tables_15 = cl.read_pdf('pdfs/democracy-index_2015.pdf', pages='5,6,7,8', flavor='stream', table_areas=['0,580,550,70'])\n",
    "last_table_15 = cl.read_pdf('pdfs/democracy-index_2015.pdf', pages='9', flavor='stream', table_areas=['0,580,550,150'])"
   ]
  },
  {
   "cell_type": "code",
   "execution_count": 127,
   "metadata": {},
   "outputs": [],
   "source": [
    "# concatenate the tables together into one big dataframe\n",
    "merged_df_15 = full_tables_15[0].df\n",
    "for i in range(1, len(full_tables_15)):\n",
    "    merged_df_15 = pd.concat([merged_df_15, full_tables_15[i].df], ignore_index=True)\n",
    "\n",
    "# add the last table\n",
    "merged_df_15 = pd.concat([merged_df_15, last_table_15[0].df], ignore_index=True)\n",
    "\n",
    "# update the column headers\n",
    "merged_df_15.columns = [\n",
    "    'Country', 'Rank', 'Overall Score', \n",
    "    'Electoral Process and Pluralism', \n",
    "    'Functioning of Government',\n",
    "    'Political Participation',\n",
    "    'Political Culture',\n",
    "    'Civil Liberties'\n",
    "]"
   ]
  },
  {
   "cell_type": "code",
   "execution_count": null,
   "metadata": {},
   "outputs": [],
   "source": [
    "merged_df_15"
   ]
  },
  {
   "cell_type": "markdown",
   "metadata": {},
   "source": [
    "### 2016 Democracy Index"
   ]
  },
  {
   "cell_type": "code",
   "execution_count": null,
   "metadata": {},
   "outputs": [],
   "source": [
    "full_tables_16 = cl.read_pdf('pdfs/democracy-index_2016.pdf', pages='9,10,11,12', flavor='stream', table_areas=['0,580,550,70'])\n",
    "last_table_16 = cl.read_pdf('pdfs/democracy-index_2016.pdf', pages='13', flavor='stream', table_areas=['0,580,550,190'])"
   ]
  },
  {
   "cell_type": "code",
   "execution_count": 141,
   "metadata": {},
   "outputs": [],
   "source": [
    "# concatenate the tables together into one big dataframe\n",
    "merged_df_16 = full_tables_16[0].df\n",
    "for i in range(1, len(full_tables_16)):\n",
    "    merged_df_16 = pd.concat([merged_df_16, full_tables_16[i].df], ignore_index=True)\n",
    "\n",
    "# add the last table\n",
    "merged_df_16 = pd.concat([merged_df_16, last_table_16[0].df], ignore_index=True)\n",
    "\n",
    "# update the column headers\n",
    "merged_df_16.columns = [\n",
    "    'Country', 'Rank', 'Overall Score', \n",
    "    'Electoral Process and Pluralism', \n",
    "    'Functioning of Government',\n",
    "    'Political Participation',\n",
    "    'Political Culture',\n",
    "    'Civil Liberties'\n",
    "]"
   ]
  },
  {
   "cell_type": "code",
   "execution_count": null,
   "metadata": {},
   "outputs": [],
   "source": [
    "merged_df_16"
   ]
  },
  {
   "cell_type": "markdown",
   "metadata": {},
   "source": [
    "### 2017 Democracy Scores"
   ]
  },
  {
   "cell_type": "code",
   "execution_count": null,
   "metadata": {},
   "outputs": [],
   "source": [
    "# visual debugging \n",
    "debug = cl.plot(last_table_16[0], kind=\"text\")\n",
    "debug"
   ]
  }
 ],
 "metadata": {
  "kernelspec": {
   "display_name": "Python 3",
   "language": "python",
   "name": "python3"
  },
  "language_info": {
   "codemirror_mode": {
    "name": "ipython",
    "version": 3
   },
   "file_extension": ".py",
   "mimetype": "text/x-python",
   "name": "python",
   "nbconvert_exporter": "python",
   "pygments_lexer": "ipython3",
   "version": "3.11.2"
  }
 },
 "nbformat": 4,
 "nbformat_minor": 2
}

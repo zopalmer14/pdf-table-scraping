{
 "cells": [
  {
   "cell_type": "markdown",
   "metadata": {},
   "source": [
    "### PDF Table Scraping \n",
    "\n",
    "**For research into the relationship between various socio-economic factors and countries' democracy scores over time**\n",
    "\n",
    "**By: Zach Palmer**"
   ]
  },
  {
   "cell_type": "code",
   "execution_count": 25,
   "metadata": {},
   "outputs": [],
   "source": [
    "# import in packages\n",
    "import pandas as pd\n",
    "import numpy as np\n",
    "import camelot as cl\n",
    "\n",
    "import matplotlib.pyplot as plt\n",
    "%matplotlib inline"
   ]
  },
  {
   "cell_type": "code",
   "execution_count": 26,
   "metadata": {},
   "outputs": [],
   "source": [
    "# read the pdf and scrape the tables\n",
    "tables = cl.read_pdf('EIU_Democracy-Index_2007_v3.pdf', pages='3,4,5', flavor='stream', table_areas=['0,650,500,0'])"
   ]
  },
  {
   "cell_type": "code",
   "execution_count": null,
   "metadata": {},
   "outputs": [],
   "source": [
    "# concatenate the tables together into one big dataframe\n",
    "merged_df = tables[0].df\n",
    "for i in range(1, len(tables)):\n",
    "    merged_df = pd.concat([merged_df, tables[i].df], ignore_index=True)\n",
    "\n",
    "# update the column headers\n",
    "merged_df.columns = [\n",
    "    'Country', 'Rank', 'Overall Score', \n",
    "    'Electoral Process and Pluralism', \n",
    "    'Functioning of Government',\n",
    "    'Political Participation',\n",
    "    'Political Culture',\n",
    "    'Civil Liberties'\n",
    "]"
   ]
  },
  {
   "cell_type": "code",
   "execution_count": 28,
   "metadata": {},
   "outputs": [
    {
     "data": {
      "text/html": [
       "<div>\n",
       "<style scoped>\n",
       "    .dataframe tbody tr th:only-of-type {\n",
       "        vertical-align: middle;\n",
       "    }\n",
       "\n",
       "    .dataframe tbody tr th {\n",
       "        vertical-align: top;\n",
       "    }\n",
       "\n",
       "    .dataframe thead th {\n",
       "        text-align: right;\n",
       "    }\n",
       "</style>\n",
       "<table border=\"1\" class=\"dataframe\">\n",
       "  <thead>\n",
       "    <tr style=\"text-align: right;\">\n",
       "      <th></th>\n",
       "      <th>Country</th>\n",
       "      <th>Rank</th>\n",
       "      <th>Overall Score</th>\n",
       "      <th>Electoral Process and Pluralism</th>\n",
       "      <th>Functioning of Government</th>\n",
       "      <th>Political Participation</th>\n",
       "      <th>Political Culture</th>\n",
       "      <th>Civil Liberties</th>\n",
       "    </tr>\n",
       "  </thead>\n",
       "  <tbody>\n",
       "    <tr>\n",
       "      <th>0</th>\n",
       "      <td>Full democracies</td>\n",
       "      <td></td>\n",
       "      <td></td>\n",
       "      <td></td>\n",
       "      <td></td>\n",
       "      <td></td>\n",
       "      <td></td>\n",
       "      <td></td>\n",
       "    </tr>\n",
       "    <tr>\n",
       "      <th>1</th>\n",
       "      <td>Sweden</td>\n",
       "      <td>1</td>\n",
       "      <td>9.88</td>\n",
       "      <td>10.00</td>\n",
       "      <td>10.00</td>\n",
       "      <td>10.00</td>\n",
       "      <td>9.38</td>\n",
       "      <td>10.00</td>\n",
       "    </tr>\n",
       "    <tr>\n",
       "      <th>2</th>\n",
       "      <td>Iceland</td>\n",
       "      <td>2</td>\n",
       "      <td>9.71</td>\n",
       "      <td>10.00</td>\n",
       "      <td>9.64</td>\n",
       "      <td>8.89</td>\n",
       "      <td>10.00</td>\n",
       "      <td>10.00</td>\n",
       "    </tr>\n",
       "    <tr>\n",
       "      <th>3</th>\n",
       "      <td>Netherlands</td>\n",
       "      <td>3</td>\n",
       "      <td>9.66</td>\n",
       "      <td>9.58</td>\n",
       "      <td>9.29</td>\n",
       "      <td>9.44</td>\n",
       "      <td>10.00</td>\n",
       "      <td>10.00</td>\n",
       "    </tr>\n",
       "    <tr>\n",
       "      <th>4</th>\n",
       "      <td>Norway</td>\n",
       "      <td>4</td>\n",
       "      <td>9.55</td>\n",
       "      <td>10.00</td>\n",
       "      <td>9.64</td>\n",
       "      <td>10.00</td>\n",
       "      <td>8.13</td>\n",
       "      <td>10.00</td>\n",
       "    </tr>\n",
       "    <tr>\n",
       "      <th>...</th>\n",
       "      <td>...</td>\n",
       "      <td>...</td>\n",
       "      <td>...</td>\n",
       "      <td>...</td>\n",
       "      <td>...</td>\n",
       "      <td>...</td>\n",
       "      <td>...</td>\n",
       "      <td>...</td>\n",
       "    </tr>\n",
       "    <tr>\n",
       "      <th>166</th>\n",
       "      <td>Myanmar</td>\n",
       "      <td>163</td>\n",
       "      <td>1.77</td>\n",
       "      <td>0.00</td>\n",
       "      <td>1.79</td>\n",
       "      <td>0.56</td>\n",
       "      <td>5.63</td>\n",
       "      <td>0.88</td>\n",
       "    </tr>\n",
       "    <tr>\n",
       "      <th>167</th>\n",
       "      <td>Togo</td>\n",
       "      <td>164</td>\n",
       "      <td>1.75</td>\n",
       "      <td>0.00</td>\n",
       "      <td>0.79</td>\n",
       "      <td>0.56</td>\n",
       "      <td>5.63</td>\n",
       "      <td>1.76</td>\n",
       "    </tr>\n",
       "    <tr>\n",
       "      <th>168</th>\n",
       "      <td>Chad</td>\n",
       "      <td>165</td>\n",
       "      <td>1.65</td>\n",
       "      <td>0.00</td>\n",
       "      <td>0.00</td>\n",
       "      <td>0.00</td>\n",
       "      <td>5.00</td>\n",
       "      <td>3.24</td>\n",
       "    </tr>\n",
       "    <tr>\n",
       "      <th>169</th>\n",
       "      <td>Central Africa</td>\n",
       "      <td>166</td>\n",
       "      <td>1.61</td>\n",
       "      <td>0.42</td>\n",
       "      <td>1.43</td>\n",
       "      <td>1.67</td>\n",
       "      <td>1.88</td>\n",
       "      <td>2.65</td>\n",
       "    </tr>\n",
       "    <tr>\n",
       "      <th>170</th>\n",
       "      <td>North Korea</td>\n",
       "      <td>167</td>\n",
       "      <td>1.03</td>\n",
       "      <td>0.83</td>\n",
       "      <td>2.50</td>\n",
       "      <td>0.56</td>\n",
       "      <td>1.25</td>\n",
       "      <td>0.00</td>\n",
       "    </tr>\n",
       "  </tbody>\n",
       "</table>\n",
       "<p>171 rows × 8 columns</p>\n",
       "</div>"
      ],
      "text/plain": [
       "              Country Rank Overall Score Electoral Process and Pluralism  \\\n",
       "0    Full democracies                                                      \n",
       "1              Sweden    1          9.88                           10.00   \n",
       "2             Iceland    2          9.71                           10.00   \n",
       "3         Netherlands    3          9.66                            9.58   \n",
       "4              Norway    4          9.55                           10.00   \n",
       "..                ...  ...           ...                             ...   \n",
       "166           Myanmar  163          1.77                            0.00   \n",
       "167              Togo  164          1.75                            0.00   \n",
       "168              Chad  165          1.65                            0.00   \n",
       "169    Central Africa  166          1.61                            0.42   \n",
       "170       North Korea  167          1.03                            0.83   \n",
       "\n",
       "    Functioning of Government Political Participation Political Culture  \\\n",
       "0                                                                         \n",
       "1                       10.00                   10.00              9.38   \n",
       "2                        9.64                    8.89             10.00   \n",
       "3                        9.29                    9.44             10.00   \n",
       "4                        9.64                   10.00              8.13   \n",
       "..                        ...                     ...               ...   \n",
       "166                      1.79                    0.56              5.63   \n",
       "167                      0.79                    0.56              5.63   \n",
       "168                      0.00                    0.00              5.00   \n",
       "169                      1.43                    1.67              1.88   \n",
       "170                      2.50                    0.56              1.25   \n",
       "\n",
       "    Civil Liberties  \n",
       "0                    \n",
       "1             10.00  \n",
       "2             10.00  \n",
       "3             10.00  \n",
       "4             10.00  \n",
       "..              ...  \n",
       "166            0.88  \n",
       "167            1.76  \n",
       "168            3.24  \n",
       "169            2.65  \n",
       "170            0.00  \n",
       "\n",
       "[171 rows x 8 columns]"
      ]
     },
     "execution_count": 28,
     "metadata": {},
     "output_type": "execute_result"
    }
   ],
   "source": [
    "merged_df"
   ]
  },
  {
   "cell_type": "code",
   "execution_count": null,
   "metadata": {},
   "outputs": [],
   "source": [
    "tables[0].df"
   ]
  },
  {
   "cell_type": "code",
   "execution_count": null,
   "metadata": {},
   "outputs": [],
   "source": [
    "tables[1].df"
   ]
  },
  {
   "cell_type": "code",
   "execution_count": null,
   "metadata": {},
   "outputs": [],
   "source": [
    "tables[2].df"
   ]
  },
  {
   "cell_type": "code",
   "execution_count": 17,
   "metadata": {},
   "outputs": [
    {
     "data": {
      "image/png": "[encoded data removed]",
      "text/plain": [
       "<Figure size 640x480 with 1 Axes>"
      ]
     },
     "execution_count": 17,
     "metadata": {},
     "output_type": "execute_result"
    },
    {
     "data": {
      "image/png": "[encoded data removed]",
      "text/plain": [
       "<Figure size 640x480 with 1 Axes>"
      ]
     },
     "metadata": {},
     "output_type": "display_data"
    }
   ],
   "source": [
    "# visual debugging \n",
    "debug = cl.plot(tables[0], kind=\"text\")\n",
    "debug"
   ]
  }
 ],
 "metadata": {
  "kernelspec": {
   "display_name": "Python 3",
   "language": "python",
   "name": "python3"
  },
  "language_info": {
   "codemirror_mode": {
    "name": "ipython",
    "version": 3
   },
   "file_extension": ".py",
   "mimetype": "text/x-python",
   "name": "python",
   "nbconvert_exporter": "python",
   "pygments_lexer": "ipython3",
   "version": "3.11.2"
  }
 },
 "nbformat": 4,
 "nbformat_minor": 2
}

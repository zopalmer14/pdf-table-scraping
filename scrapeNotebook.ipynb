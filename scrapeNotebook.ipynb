{
 "cells": [
  {
   "cell_type": "markdown",
   "metadata": {},
   "source": [
    "### PDF Table Scraping \n",
    "\n",
    "**For research into the relationship between various socio-economic factors and countries' democracy scores over time**\n",
    "\n",
    "**By: Zach Palmer**"
   ]
  },
  {
   "cell_type": "code",
   "execution_count": 2,
   "metadata": {},
   "outputs": [],
   "source": [
    "# import in packages\n",
    "import pandas as pd\n",
    "import numpy as np\n",
    "import camelot as cl\n",
    "\n",
    "import matplotlib.pyplot as plt\n",
    "%matplotlib inline"
   ]
  },
  {
   "cell_type": "markdown",
   "metadata": {},
   "source": [
    "### 2007 Democracy Index"
   ]
  },
  {
   "cell_type": "code",
   "execution_count": 2,
   "metadata": {},
   "outputs": [],
   "source": [
    "# read the pdf and scrape the tables\n",
    "tables = cl.read_pdf('pdfs/democracy-index_2007.pdf', pages='3,4,5', flavor='stream', table_areas=['0,650,500,0'])"
   ]
  },
  {
   "cell_type": "code",
   "execution_count": 4,
   "metadata": {},
   "outputs": [],
   "source": [
    "# concatenate the tables together into one big dataframe\n",
    "merged_df = tables[0].df\n",
    "for i in range(1, len(tables)):\n",
    "    merged_df = pd.concat([merged_df, tables[i].df], ignore_index=True)\n",
    "\n",
    "# update the column headers\n",
    "merged_df.columns = [\n",
    "    'Country', 'Rank', 'Overall Score', \n",
    "    'Electoral Process and Pluralism', \n",
    "    'Functioning of Government',\n",
    "    'Political Participation',\n",
    "    'Political Culture',\n",
    "    'Civil Liberties'\n",
    "]"
   ]
  },
  {
   "cell_type": "code",
   "execution_count": null,
   "metadata": {},
   "outputs": [],
   "source": [
    "merged_df"
   ]
  },
  {
   "cell_type": "markdown",
   "metadata": {},
   "source": [
    "### 2008 Democracy Index\n",
    "\n",
    "**Need to fix countries whose names take up multiple rows**"
   ]
  },
  {
   "cell_type": "code",
   "execution_count": 7,
   "metadata": {},
   "outputs": [],
   "source": [
    "# read the pdf and scrape the tables\n",
    "first_table_08 = cl.read_pdf('pdfs/democracy-index_2008.pdf', pages='4', flavor='stream', table_areas=['0,560,550,0'])\n",
    "full_tables_08 = cl.read_pdf('pdfs/democracy-index_2008.pdf', pages='5,6,7', flavor='stream', table_areas=['0,700,550,0'])\n",
    "last_table_08 = cl.read_pdf('pdfs/democracy-index_2008.pdf', pages='8', flavor='stream', table_areas=['0,700,550,420'])"
   ]
  },
  {
   "cell_type": "markdown",
   "metadata": {},
   "source": [
    "### 2010 Democracy Index"
   ]
  },
  {
   "cell_type": "code",
   "execution_count": 9,
   "metadata": {},
   "outputs": [],
   "source": [
    "full_tables_10 = cl.read_pdf('pdfs/democracy-index_2010.pdf', pages='4,5,6,7,8', flavor='stream', table_areas=['0,560,550,50'])\n",
    "last_table_10 = cl.read_pdf('pdfs/democracy-index_2010.pdf', pages='9', flavor='stream', table_areas=['0,580,550,510'])"
   ]
  },
  {
   "cell_type": "code",
   "execution_count": 10,
   "metadata": {},
   "outputs": [],
   "source": [
    "# concatenate the tables together into one big dataframe\n",
    "merged_df_10 = full_tables_10[0].df\n",
    "for i in range(1, len(full_tables_10)):\n",
    "    merged_df_10 = pd.concat([merged_df_10, full_tables_10[i].df], ignore_index=True)\n",
    "\n",
    "# add the last table\n",
    "merged_df_10 = pd.concat([merged_df_10, last_table_10[0].df], ignore_index=True)\n",
    "\n",
    "# update the column headers\n",
    "merged_df_10.columns = [\n",
    "    'Country', 'Rank', 'Overall Score', \n",
    "    'Electoral Process and Pluralism', \n",
    "    'Functioning of Government',\n",
    "    'Political Participation',\n",
    "    'Political Culture',\n",
    "    'Civil Liberties'\n",
    "]"
   ]
  },
  {
   "cell_type": "code",
   "execution_count": null,
   "metadata": {},
   "outputs": [],
   "source": [
    "merged_df_10"
   ]
  },
  {
   "cell_type": "markdown",
   "metadata": {},
   "source": [
    "### 2011 Democracy Index"
   ]
  },
  {
   "cell_type": "code",
   "execution_count": 31,
   "metadata": {},
   "outputs": [],
   "source": [
    "# read the pdf and scrape the tables\n",
    "first_table_11 = cl.read_pdf('pdfs/democracy-index_2011.pdf', pages='4', flavor='stream', table_areas=['0,230,550,50'])\n",
    "full_tables_11 = cl.read_pdf('pdfs/democracy-index_2011.pdf', pages='5,6,7,8', flavor='stream', table_areas=['0,570,550,50'])\n",
    "last_table_11 = cl.read_pdf('pdfs/democracy-index_2011.pdf', pages='9', flavor='stream', table_areas=['0,570,550,200'])"
   ]
  },
  {
   "cell_type": "code",
   "execution_count": 36,
   "metadata": {},
   "outputs": [],
   "source": [
    "# concatenate the tables together into one big dataframe\n",
    "merged_df_11 = first_table_11[0].df\n",
    "for i in range(0, len(full_tables_11)):\n",
    "    merged_df_11 = pd.concat([merged_df_11, full_tables_11[i].df], ignore_index=True)\n",
    "\n",
    "# add the last table\n",
    "merged_df_11 = pd.concat([merged_df_11, last_table_11[0].df], ignore_index=True)\n",
    "\n",
    "# update the column headers\n",
    "merged_df_11.columns = [\n",
    "    'Country', 'Rank', 'Overall Score', \n",
    "    'Electoral Process and Pluralism', \n",
    "    'Functioning of Government',\n",
    "    'Political Participation',\n",
    "    'Political Culture',\n",
    "    'Civil Liberties'\n",
    "]"
   ]
  },
  {
   "cell_type": "code",
   "execution_count": null,
   "metadata": {},
   "outputs": [],
   "source": [
    "merged_df_11"
   ]
  },
  {
   "cell_type": "markdown",
   "metadata": {},
   "source": [
    "### 2012 Democracy Index"
   ]
  },
  {
   "cell_type": "code",
   "execution_count": 50,
   "metadata": {},
   "outputs": [],
   "source": [
    "# read the pdf and scrape the tables\n",
    "first_table_12 = cl.read_pdf('pdfs/democracy-index_2012.pdf', pages='4', flavor='stream', table_areas=['0,360,550,50'])\n",
    "full_tables_12 = cl.read_pdf('pdfs/democracy-index_2012.pdf', pages='5,6,7,8', flavor='stream', table_areas=['0,560,550,50'])\n",
    "last_table_12 = cl.read_pdf('pdfs/democracy-index_2012.pdf', pages='9', flavor='stream', table_areas=['0,560,550,260'])"
   ]
  },
  {
   "cell_type": "code",
   "execution_count": 57,
   "metadata": {},
   "outputs": [],
   "source": [
    "# concatenate the tables together into one big dataframe\n",
    "merged_df_12 = first_table_12[0].df\n",
    "for i in range(0, len(full_tables_12)):\n",
    "    merged_df_12 = pd.concat([merged_df_12, full_tables_12[i].df], ignore_index=True)\n",
    "\n",
    "# add the last table\n",
    "merged_df_12 = pd.concat([merged_df_12, last_table_12[0].df], ignore_index=True)\n",
    "\n",
    "# update the column headers\n",
    "merged_df_12.columns = [\n",
    "    'Country', 'Rank', 'Overall Score', \n",
    "    'Electoral Process and Pluralism', \n",
    "    'Functioning of Government',\n",
    "    'Political Participation',\n",
    "    'Political Culture',\n",
    "    'Civil Liberties'\n",
    "]"
   ]
  },
  {
   "cell_type": "code",
   "execution_count": null,
   "metadata": {},
   "outputs": [],
   "source": [
    "merged_df_12"
   ]
  },
  {
   "cell_type": "markdown",
   "metadata": {},
   "source": [
    "### 2013 Democracy Index"
   ]
  },
  {
   "cell_type": "code",
   "execution_count": 67,
   "metadata": {},
   "outputs": [],
   "source": [
    "# read the pdf and scrape the tables\n",
    "first_table_13 = cl.read_pdf('pdfs/democracy-index_2013.pdf', pages='4', flavor='stream', table_areas=['0,420,550,50'])\n",
    "full_tables_13 = cl.read_pdf('pdfs/democracy-index_2013.pdf', pages='5,6,7,8', flavor='stream', table_areas=['0,580,550,50'])\n",
    "last_table_13 = cl.read_pdf('pdfs/democracy-index_2013.pdf', pages='9', flavor='stream', table_areas=['0,580,550,400'])"
   ]
  },
  {
   "cell_type": "code",
   "execution_count": 77,
   "metadata": {},
   "outputs": [],
   "source": [
    "# concatenate the tables together into one big dataframe\n",
    "merged_df_13 = first_table_13[0].df\n",
    "for i in range(0, len(full_tables_13)):\n",
    "    merged_df_13 = pd.concat([merged_df_13, full_tables_13[i].df], ignore_index=True)\n",
    "\n",
    "# add the last table\n",
    "merged_df_13 = pd.concat([merged_df_13, last_table_13[0].df], ignore_index=True)\n",
    "\n",
    "# update the column headers\n",
    "merged_df_13.columns = [\n",
    "    'Country', 'Rank', 'Overall Score', \n",
    "    'Electoral Process and Pluralism', \n",
    "    'Functioning of Government',\n",
    "    'Political Participation',\n",
    "    'Political Culture',\n",
    "    'Civil Liberties'\n",
    "]"
   ]
  },
  {
   "cell_type": "code",
   "execution_count": null,
   "metadata": {},
   "outputs": [],
   "source": [
    "merged_df_13"
   ]
  },
  {
   "cell_type": "markdown",
   "metadata": {},
   "source": [
    "### 2014 Democracy Score"
   ]
  },
  {
   "cell_type": "code",
   "execution_count": 92,
   "metadata": {},
   "outputs": [],
   "source": [
    "first_table_14 = cl.read_pdf('pdfs/democracy-index_2014.pdf', pages='4', flavor='stream', table_areas=['0,140,550,50'])\n",
    "full_tables_14 = cl.read_pdf('pdfs/democracy-index_2014.pdf', pages='5,6,7,8,9', flavor='stream', table_areas=['0,570,550,70'])"
   ]
  },
  {
   "cell_type": "code",
   "execution_count": 99,
   "metadata": {},
   "outputs": [],
   "source": [
    "# concatenate the tables together into one big dataframe\n",
    "merged_df_14 = first_table_14[0].df\n",
    "for i in range(0, len(full_tables_14)):\n",
    "    merged_df_14 = pd.concat([merged_df_14, full_tables_14[i].df], ignore_index=True)\n",
    "\n",
    "# update the column headers\n",
    "merged_df_14.columns = [\n",
    "    'Country', 'Rank', 'Overall Score', \n",
    "    'Electoral Process and Pluralism', \n",
    "    'Functioning of Government',\n",
    "    'Political Participation',\n",
    "    'Political Culture',\n",
    "    'Civil Liberties'\n",
    "]"
   ]
  },
  {
   "cell_type": "code",
   "execution_count": null,
   "metadata": {},
   "outputs": [],
   "source": [
    "merged_df_14"
   ]
  },
  {
   "cell_type": "markdown",
   "metadata": {},
   "source": [
    "### 2015 Democracy Score"
   ]
  },
  {
   "cell_type": "code",
   "execution_count": 120,
   "metadata": {},
   "outputs": [],
   "source": [
    "full_tables_15 = cl.read_pdf('pdfs/democracy-index_2015.pdf', pages='5,6,7,8', flavor='stream', table_areas=['0,580,550,70'])\n",
    "last_table_15 = cl.read_pdf('pdfs/democracy-index_2015.pdf', pages='9', flavor='stream', table_areas=['0,580,550,150'])"
   ]
  },
  {
   "cell_type": "code",
   "execution_count": 127,
   "metadata": {},
   "outputs": [],
   "source": [
    "# concatenate the tables together into one big dataframe\n",
    "merged_df_15 = full_tables_15[0].df\n",
    "for i in range(1, len(full_tables_15)):\n",
    "    merged_df_15 = pd.concat([merged_df_15, full_tables_15[i].df], ignore_index=True)\n",
    "\n",
    "# add the last table\n",
    "merged_df_15 = pd.concat([merged_df_15, last_table_15[0].df], ignore_index=True)\n",
    "\n",
    "# update the column headers\n",
    "merged_df_15.columns = [\n",
    "    'Country', 'Rank', 'Overall Score', \n",
    "    'Electoral Process and Pluralism', \n",
    "    'Functioning of Government',\n",
    "    'Political Participation',\n",
    "    'Political Culture',\n",
    "    'Civil Liberties'\n",
    "]"
   ]
  },
  {
   "cell_type": "code",
   "execution_count": null,
   "metadata": {},
   "outputs": [],
   "source": [
    "merged_df_15"
   ]
  },
  {
   "cell_type": "markdown",
   "metadata": {},
   "source": [
    "### 2016 Democracy Index"
   ]
  },
  {
   "cell_type": "code",
   "execution_count": null,
   "metadata": {},
   "outputs": [],
   "source": [
    "full_tables_16 = cl.read_pdf('pdfs/democracy-index_2016.pdf', pages='9,10,11,12', flavor='stream', table_areas=['0,580,550,70'])\n",
    "last_table_16 = cl.read_pdf('pdfs/democracy-index_2016.pdf', pages='13', flavor='stream', table_areas=['0,580,550,190'])"
   ]
  },
  {
   "cell_type": "code",
   "execution_count": 141,
   "metadata": {},
   "outputs": [],
   "source": [
    "# concatenate the tables together into one big dataframe\n",
    "merged_df_16 = full_tables_16[0].df\n",
    "for i in range(1, len(full_tables_16)):\n",
    "    merged_df_16 = pd.concat([merged_df_16, full_tables_16[i].df], ignore_index=True)\n",
    "\n",
    "# add the last table\n",
    "merged_df_16 = pd.concat([merged_df_16, last_table_16[0].df], ignore_index=True)\n",
    "\n",
    "# update the column headers\n",
    "merged_df_16.columns = [\n",
    "    'Country', 'Rank', 'Overall Score', \n",
    "    'Electoral Process and Pluralism', \n",
    "    'Functioning of Government',\n",
    "    'Political Participation',\n",
    "    'Political Culture',\n",
    "    'Civil Liberties'\n",
    "]"
   ]
  },
  {
   "cell_type": "code",
   "execution_count": null,
   "metadata": {},
   "outputs": [],
   "source": [
    "merged_df_16"
   ]
  },
  {
   "cell_type": "markdown",
   "metadata": {},
   "source": [
    "### 2017 Democracy Scores"
   ]
  },
  {
   "cell_type": "code",
   "execution_count": null,
   "metadata": {},
   "outputs": [],
   "source": [
    "full_tables_17 = cl.read_pdf('pdfs/democracy-index_2017.pdf', pages='7,8,9,10', flavor='stream', table_areas=['0,620,550,70'])\n",
    "last_table_17 = cl.read_pdf('pdfs/democracy-index_2017.pdf', pages='11', flavor='stream', table_areas=['0,610,550,350'])"
   ]
  },
  {
   "cell_type": "code",
   "execution_count": 15,
   "metadata": {},
   "outputs": [],
   "source": [
    "# concatenate the tables together into one big dataframe\n",
    "merged_df_17 = full_tables_17[0].df\n",
    "for i in range(1, len(full_tables_17)):\n",
    "    merged_df_17 = pd.concat([merged_df_17, full_tables_17[i].df], ignore_index=True)\n",
    "\n",
    "# add the last table\n",
    "merged_df_17 = pd.concat([merged_df_17, last_table_17[0].df], ignore_index=True)\n",
    "\n",
    "# update the column headers\n",
    "merged_df_17.columns = [\n",
    "    'Country', 'Rank', 'Overall Score', \n",
    "    'Electoral Process and Pluralism', \n",
    "    'Functioning of Government',\n",
    "    'Political Participation',\n",
    "    'Political Culture',\n",
    "    'Civil Liberties'\n",
    "]"
   ]
  },
  {
   "cell_type": "code",
   "execution_count": null,
   "metadata": {},
   "outputs": [],
   "source": [
    "merged_df_17"
   ]
  },
  {
   "cell_type": "markdown",
   "metadata": {},
   "source": [
    "### 2018 Democracy Index"
   ]
  },
  {
   "cell_type": "code",
   "execution_count": null,
   "metadata": {},
   "outputs": [],
   "source": []
  },
  {
   "cell_type": "code",
   "execution_count": null,
   "metadata": {},
   "outputs": [],
   "source": [
    "# visual debugging \n",
    "debug = cl.plot(last_table_17[0], kind=\"text\")\n",
    "debug"
   ]
  },
  {
   "cell_type": "markdown",
   "metadata": {},
   "source": [
    "### 2023 Democracy Index\n",
    "\n",
    "**Can get entire table of scores over time from this PDF**"
   ]
  },
  {
   "cell_type": "markdown",
   "metadata": {},
   "source": [
    "### Democracy Scores from 06 - 23"
   ]
  },
  {
   "cell_type": "code",
   "execution_count": 34,
   "metadata": {},
   "outputs": [],
   "source": [
    "# read the pdf and scrape the tables\n",
    "first_demo_table = cl.read_pdf('pdfs/democracy-index_2023.pdf', pages='19', flavor='stream', table_areas=['0,300,550,30'])\n",
    "full_demo_tables = cl.read_pdf('pdfs/democracy-index_2023.pdf', pages='20,21,22,23', flavor='stream', table_areas=['0,600,550,50'])\n",
    "last_demo_table = cl.read_pdf('pdfs/democracy-index_2023.pdf', pages='24', flavor='stream', table_areas=['0,600,550,500'])"
   ]
  },
  {
   "cell_type": "code",
   "execution_count": 39,
   "metadata": {},
   "outputs": [],
   "source": [
    "# create a list of the table parts after removing the continent and world averages\n",
    "table_parts = [\n",
    "    first_demo_table[0].df.drop(2),\n",
    "    full_demo_tables[0].df.drop([7,36]),\n",
    "    full_demo_tables[1].df.drop(24),\n",
    "    full_demo_tables[2].df.drop([15,36]),\n",
    "    full_demo_tables[3].df,\n",
    "    last_demo_table[0].df.drop([5,6])\n",
    "]\n",
    "\n",
    "# concatenate the table parts together into one big dataframe\n",
    "demo_merged_df = table_parts[0]\n",
    "for i in range(1, len(table_parts)):\n",
    "    demo_merged_df = pd.concat([demo_merged_df, table_parts[i]], ignore_index=True)\n",
    "\n",
    "# update the column headers\n",
    "demo_merged_df.columns = [\n",
    "    'Country', '2023', '2022', '2021', '2020', '2019', \n",
    "    '2018', '2017', '2016', '2015', '2014', '2013', \n",
    "    '2012', '2011', '2010', '2008', '2006'\n",
    "]"
   ]
  },
  {
   "cell_type": "code",
   "execution_count": 40,
   "metadata": {},
   "outputs": [
    {
     "data": {
      "text/html": [
       "<div>\n",
       "<style scoped>\n",
       "    .dataframe tbody tr th:only-of-type {\n",
       "        vertical-align: middle;\n",
       "    }\n",
       "\n",
       "    .dataframe tbody tr th {\n",
       "        vertical-align: top;\n",
       "    }\n",
       "\n",
       "    .dataframe thead th {\n",
       "        text-align: right;\n",
       "    }\n",
       "</style>\n",
       "<table border=\"1\" class=\"dataframe\">\n",
       "  <thead>\n",
       "    <tr style=\"text-align: right;\">\n",
       "      <th></th>\n",
       "      <th>Country</th>\n",
       "      <th>2023</th>\n",
       "      <th>2022</th>\n",
       "      <th>2021</th>\n",
       "      <th>2020</th>\n",
       "      <th>2019</th>\n",
       "      <th>2018</th>\n",
       "      <th>2017</th>\n",
       "      <th>2016</th>\n",
       "      <th>2015</th>\n",
       "      <th>2014</th>\n",
       "      <th>2013</th>\n",
       "      <th>2012</th>\n",
       "      <th>2011</th>\n",
       "      <th>2010</th>\n",
       "      <th>2008</th>\n",
       "      <th>2006</th>\n",
       "    </tr>\n",
       "  </thead>\n",
       "  <tbody>\n",
       "    <tr>\n",
       "      <th>0</th>\n",
       "      <td>Canada</td>\n",
       "      <td>8.69</td>\n",
       "      <td>8.88</td>\n",
       "      <td>8.87</td>\n",
       "      <td>9.24</td>\n",
       "      <td>9.22</td>\n",
       "      <td>9.15</td>\n",
       "      <td>9.15</td>\n",
       "      <td>9.15</td>\n",
       "      <td>9.08</td>\n",
       "      <td>9.08</td>\n",
       "      <td>9.08</td>\n",
       "      <td>9.08</td>\n",
       "      <td>9.08</td>\n",
       "      <td>9.08</td>\n",
       "      <td>9.07</td>\n",
       "      <td>9.07</td>\n",
       "    </tr>\n",
       "    <tr>\n",
       "      <th>1</th>\n",
       "      <td>US</td>\n",
       "      <td>7.85</td>\n",
       "      <td>7.85</td>\n",
       "      <td>7.85</td>\n",
       "      <td>7.92</td>\n",
       "      <td>7.96</td>\n",
       "      <td>7.96</td>\n",
       "      <td>7.98</td>\n",
       "      <td>7.98</td>\n",
       "      <td>8.05</td>\n",
       "      <td>8.11</td>\n",
       "      <td>8.11</td>\n",
       "      <td>8.11</td>\n",
       "      <td>8.11</td>\n",
       "      <td>8.18</td>\n",
       "      <td>8.22</td>\n",
       "      <td>8.22</td>\n",
       "    </tr>\n",
       "    <tr>\n",
       "      <th>2</th>\n",
       "      <td>Austria</td>\n",
       "      <td>8.28</td>\n",
       "      <td>8.20</td>\n",
       "      <td>8.07</td>\n",
       "      <td>8.16</td>\n",
       "      <td>8.29</td>\n",
       "      <td>8.29</td>\n",
       "      <td>8.42</td>\n",
       "      <td>8.41</td>\n",
       "      <td>8.54</td>\n",
       "      <td>8.54</td>\n",
       "      <td>8.48</td>\n",
       "      <td>8.62</td>\n",
       "      <td>8.49</td>\n",
       "      <td>8.49</td>\n",
       "      <td>8.49</td>\n",
       "      <td>8.69</td>\n",
       "    </tr>\n",
       "    <tr>\n",
       "      <th>3</th>\n",
       "      <td>Belgium</td>\n",
       "      <td>7.64</td>\n",
       "      <td>7.64</td>\n",
       "      <td>7.51</td>\n",
       "      <td>7.51</td>\n",
       "      <td>7.64</td>\n",
       "      <td>7.78</td>\n",
       "      <td>7.78</td>\n",
       "      <td>7.77</td>\n",
       "      <td>7.93</td>\n",
       "      <td>7.93</td>\n",
       "      <td>8.05</td>\n",
       "      <td>8.05</td>\n",
       "      <td>8.05</td>\n",
       "      <td>8.05</td>\n",
       "      <td>8.16</td>\n",
       "      <td>8.15</td>\n",
       "    </tr>\n",
       "    <tr>\n",
       "      <th>4</th>\n",
       "      <td>Cyprus</td>\n",
       "      <td>7.38</td>\n",
       "      <td>7.38</td>\n",
       "      <td>7.43</td>\n",
       "      <td>7.56</td>\n",
       "      <td>7.59</td>\n",
       "      <td>7.59</td>\n",
       "      <td>7.59</td>\n",
       "      <td>7.65</td>\n",
       "      <td>7.53</td>\n",
       "      <td>7.40</td>\n",
       "      <td>7.29</td>\n",
       "      <td>7.29</td>\n",
       "      <td>7.29</td>\n",
       "      <td>7.29</td>\n",
       "      <td>7.70</td>\n",
       "      <td>7.60</td>\n",
       "    </tr>\n",
       "    <tr>\n",
       "      <th>...</th>\n",
       "      <td>...</td>\n",
       "      <td>...</td>\n",
       "      <td>...</td>\n",
       "      <td>...</td>\n",
       "      <td>...</td>\n",
       "      <td>...</td>\n",
       "      <td>...</td>\n",
       "      <td>...</td>\n",
       "      <td>...</td>\n",
       "      <td>...</td>\n",
       "      <td>...</td>\n",
       "      <td>...</td>\n",
       "      <td>...</td>\n",
       "      <td>...</td>\n",
       "      <td>...</td>\n",
       "      <td>...</td>\n",
       "      <td>...</td>\n",
       "    </tr>\n",
       "    <tr>\n",
       "      <th>162</th>\n",
       "      <td>Tanzania</td>\n",
       "      <td>5.35</td>\n",
       "      <td>5.10</td>\n",
       "      <td>5.10</td>\n",
       "      <td>5.10</td>\n",
       "      <td>5.16</td>\n",
       "      <td>5.41</td>\n",
       "      <td>5.47</td>\n",
       "      <td>5.76</td>\n",
       "      <td>5.58</td>\n",
       "      <td>5.77</td>\n",
       "      <td>5.77</td>\n",
       "      <td>5.88</td>\n",
       "      <td>5.64</td>\n",
       "      <td>5.64</td>\n",
       "      <td>5.28</td>\n",
       "      <td>5.18</td>\n",
       "    </tr>\n",
       "    <tr>\n",
       "      <th>163</th>\n",
       "      <td>Togo</td>\n",
       "      <td>2.99</td>\n",
       "      <td>2.99</td>\n",
       "      <td>2.80</td>\n",
       "      <td>2.80</td>\n",
       "      <td>3.30</td>\n",
       "      <td>3.10</td>\n",
       "      <td>3.05</td>\n",
       "      <td>3.32</td>\n",
       "      <td>3.41</td>\n",
       "      <td>3.45</td>\n",
       "      <td>3.45</td>\n",
       "      <td>3.45</td>\n",
       "      <td>3.45</td>\n",
       "      <td>3.45</td>\n",
       "      <td>2.43</td>\n",
       "      <td>1.75</td>\n",
       "    </tr>\n",
       "    <tr>\n",
       "      <th>164</th>\n",
       "      <td>Uganda</td>\n",
       "      <td>4.49</td>\n",
       "      <td>4.55</td>\n",
       "      <td>4.48</td>\n",
       "      <td>4.94</td>\n",
       "      <td>5.02</td>\n",
       "      <td>5.20</td>\n",
       "      <td>5.09</td>\n",
       "      <td>5.26</td>\n",
       "      <td>5.22</td>\n",
       "      <td>5.22</td>\n",
       "      <td>5.22</td>\n",
       "      <td>5.16</td>\n",
       "      <td>5.13</td>\n",
       "      <td>5.05</td>\n",
       "      <td>5.03</td>\n",
       "      <td>5.14</td>\n",
       "    </tr>\n",
       "    <tr>\n",
       "      <th>165</th>\n",
       "      <td>Zambia</td>\n",
       "      <td>5.80</td>\n",
       "      <td>5.80</td>\n",
       "      <td>5.72</td>\n",
       "      <td>4.86</td>\n",
       "      <td>5.09</td>\n",
       "      <td>5.61</td>\n",
       "      <td>5.68</td>\n",
       "      <td>5.99</td>\n",
       "      <td>6.28</td>\n",
       "      <td>6.39</td>\n",
       "      <td>6.26</td>\n",
       "      <td>6.26</td>\n",
       "      <td>6.19</td>\n",
       "      <td>5.68</td>\n",
       "      <td>5.25</td>\n",
       "      <td>5.25</td>\n",
       "    </tr>\n",
       "    <tr>\n",
       "      <th>166</th>\n",
       "      <td>Zimbabwe</td>\n",
       "      <td>3.04</td>\n",
       "      <td>2.92</td>\n",
       "      <td>2.92</td>\n",
       "      <td>3.16</td>\n",
       "      <td>3.16</td>\n",
       "      <td>3.16</td>\n",
       "      <td>3.16</td>\n",
       "      <td>3.05</td>\n",
       "      <td>3.05</td>\n",
       "      <td>2.78</td>\n",
       "      <td>2.67</td>\n",
       "      <td>2.67</td>\n",
       "      <td>2.68</td>\n",
       "      <td>2.64</td>\n",
       "      <td>2.53</td>\n",
       "      <td>2.62</td>\n",
       "    </tr>\n",
       "  </tbody>\n",
       "</table>\n",
       "<p>167 rows × 17 columns</p>\n",
       "</div>"
      ],
      "text/plain": [
       "      Country  2023  2022  2021  2020  2019  2018  2017  2016  2015  2014  \\\n",
       "0      Canada  8.69  8.88  8.87  9.24  9.22  9.15  9.15  9.15  9.08  9.08   \n",
       "1          US  7.85  7.85  7.85  7.92  7.96  7.96  7.98  7.98  8.05  8.11   \n",
       "2     Austria  8.28  8.20  8.07  8.16  8.29  8.29  8.42  8.41  8.54  8.54   \n",
       "3     Belgium  7.64  7.64  7.51  7.51  7.64  7.78  7.78  7.77  7.93  7.93   \n",
       "4      Cyprus  7.38  7.38  7.43  7.56  7.59  7.59  7.59  7.65  7.53  7.40   \n",
       "..        ...   ...   ...   ...   ...   ...   ...   ...   ...   ...   ...   \n",
       "162  Tanzania  5.35  5.10  5.10  5.10  5.16  5.41  5.47  5.76  5.58  5.77   \n",
       "163      Togo  2.99  2.99  2.80  2.80  3.30  3.10  3.05  3.32  3.41  3.45   \n",
       "164    Uganda  4.49  4.55  4.48  4.94  5.02  5.20  5.09  5.26  5.22  5.22   \n",
       "165    Zambia  5.80  5.80  5.72  4.86  5.09  5.61  5.68  5.99  6.28  6.39   \n",
       "166  Zimbabwe  3.04  2.92  2.92  3.16  3.16  3.16  3.16  3.05  3.05  2.78   \n",
       "\n",
       "     2013  2012  2011  2010  2008  2006  \n",
       "0    9.08  9.08  9.08  9.08  9.07  9.07  \n",
       "1    8.11  8.11  8.11  8.18  8.22  8.22  \n",
       "2    8.48  8.62  8.49  8.49  8.49  8.69  \n",
       "3    8.05  8.05  8.05  8.05  8.16  8.15  \n",
       "4    7.29  7.29  7.29  7.29  7.70  7.60  \n",
       "..    ...   ...   ...   ...   ...   ...  \n",
       "162  5.77  5.88  5.64  5.64  5.28  5.18  \n",
       "163  3.45  3.45  3.45  3.45  2.43  1.75  \n",
       "164  5.22  5.16  5.13  5.05  5.03  5.14  \n",
       "165  6.26  6.26  6.19  5.68  5.25  5.25  \n",
       "166  2.67  2.67  2.68  2.64  2.53  2.62  \n",
       "\n",
       "[167 rows x 17 columns]"
      ]
     },
     "execution_count": 40,
     "metadata": {},
     "output_type": "execute_result"
    }
   ],
   "source": [
    "demo_merged_df"
   ]
  },
  {
   "cell_type": "code",
   "execution_count": 41,
   "metadata": {},
   "outputs": [],
   "source": [
    "# write the dataframe out to a csv file\n",
    "demo_merged_df.to_csv('demo_scores_06-23.csv', index=False) "
   ]
  }
 ],
 "metadata": {
  "kernelspec": {
   "display_name": "Python 3",
   "language": "python",
   "name": "python3"
  },
  "language_info": {
   "codemirror_mode": {
    "name": "ipython",
    "version": 3
   },
   "file_extension": ".py",
   "mimetype": "text/x-python",
   "name": "python",
   "nbconvert_exporter": "python",
   "pygments_lexer": "ipython3",
   "version": "3.11.2"
  }
 },
 "nbformat": 4,
 "nbformat_minor": 2
}

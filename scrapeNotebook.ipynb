{
 "cells": [
  {
   "cell_type": "markdown",
   "metadata": {},
   "source": [
    "### PDF Table Scraping \n",
    "\n",
    "**For research into the relationship between various socio-economic factors and countries' democracy scores over time**\n",
    "\n",
    "**By: Zach Palmer**"
   ]
  },
  {
   "cell_type": "code",
   "execution_count": 2,
   "metadata": {},
   "outputs": [],
   "source": [
    "# import in packages\n",
    "import pandas as pd\n",
    "import numpy as np\n",
    "import camelot as cl\n",
    "\n",
    "import matplotlib.pyplot as plt\n",
    "%matplotlib inline"
   ]
  },
  {
   "cell_type": "markdown",
   "metadata": {},
   "source": [
    "### 2007 Democracy Index"
   ]
  },
  {
   "cell_type": "code",
   "execution_count": 2,
   "metadata": {},
   "outputs": [],
   "source": [
    "# read the pdf and scrape the tables\n",
    "tables = cl.read_pdf('pdfs/democracy-index_2007.pdf', pages='3,4,5', flavor='stream', table_areas=['0,650,500,0'])"
   ]
  },
  {
   "cell_type": "code",
   "execution_count": 4,
   "metadata": {},
   "outputs": [],
   "source": [
    "# concatenate the tables together into one big dataframe\n",
    "merged_df = tables[0].df\n",
    "for i in range(1, len(tables)):\n",
    "    merged_df = pd.concat([merged_df, tables[i].df], ignore_index=True)\n",
    "\n",
    "# update the column headers\n",
    "merged_df.columns = [\n",
    "    'Country', 'Rank', 'Overall Score', \n",
    "    'Electoral Process and Pluralism', \n",
    "    'Functioning of Government',\n",
    "    'Political Participation',\n",
    "    'Political Culture',\n",
    "    'Civil Liberties'\n",
    "]"
   ]
  },
  {
   "cell_type": "code",
   "execution_count": null,
   "metadata": {},
   "outputs": [],
   "source": [
    "merged_df"
   ]
  },
  {
   "cell_type": "markdown",
   "metadata": {},
   "source": [
    "### 2008 Democracy Index\n",
    "\n",
    "**Need to fix countries whose names take up multiple rows**"
   ]
  },
  {
   "cell_type": "code",
   "execution_count": 7,
   "metadata": {},
   "outputs": [],
   "source": [
    "# read the pdf and scrape the tables\n",
    "first_table_08 = cl.read_pdf('pdfs/democracy-index_2008.pdf', pages='4', flavor='stream', table_areas=['0,560,550,0'])\n",
    "full_tables_08 = cl.read_pdf('pdfs/democracy-index_2008.pdf', pages='5,6,7', flavor='stream', table_areas=['0,700,550,0'])\n",
    "last_table_08 = cl.read_pdf('pdfs/democracy-index_2008.pdf', pages='8', flavor='stream', table_areas=['0,700,550,420'])"
   ]
  },
  {
   "cell_type": "markdown",
   "metadata": {},
   "source": [
    "### 2010 Democracy Index"
   ]
  },
  {
   "cell_type": "code",
   "execution_count": 9,
   "metadata": {},
   "outputs": [],
   "source": [
    "full_tables_10 = cl.read_pdf('pdfs/democracy-index_2010.pdf', pages='4,5,6,7,8', flavor='stream', table_areas=['0,560,550,50'])\n",
    "last_table_10 = cl.read_pdf('pdfs/democracy-index_2010.pdf', pages='9', flavor='stream', table_areas=['0,580,550,510'])"
   ]
  },
  {
   "cell_type": "code",
   "execution_count": 10,
   "metadata": {},
   "outputs": [],
   "source": [
    "# concatenate the tables together into one big dataframe\n",
    "merged_df_10 = full_tables_10[0].df\n",
    "for i in range(1, len(full_tables_10)):\n",
    "    merged_df_10 = pd.concat([merged_df_10, full_tables_10[i].df], ignore_index=True)\n",
    "\n",
    "# add the last table\n",
    "merged_df_10 = pd.concat([merged_df_10, last_table_10[0].df], ignore_index=True)\n",
    "\n",
    "# update the column headers\n",
    "merged_df_10.columns = [\n",
    "    'Country', 'Rank', 'Overall Score', \n",
    "    'Electoral Process and Pluralism', \n",
    "    'Functioning of Government',\n",
    "    'Political Participation',\n",
    "    'Political Culture',\n",
    "    'Civil Liberties'\n",
    "]"
   ]
  },
  {
   "cell_type": "code",
   "execution_count": null,
   "metadata": {},
   "outputs": [],
   "source": [
    "merged_df_10"
   ]
  },
  {
   "cell_type": "markdown",
   "metadata": {},
   "source": [
    "### 2011 Democracy Index"
   ]
  },
  {
   "cell_type": "code",
   "execution_count": 31,
   "metadata": {},
   "outputs": [],
   "source": [
    "# read the pdf and scrape the tables\n",
    "first_table_11 = cl.read_pdf('pdfs/democracy-index_2011.pdf', pages='4', flavor='stream', table_areas=['0,230,550,50'])\n",
    "full_tables_11 = cl.read_pdf('pdfs/democracy-index_2011.pdf', pages='5,6,7,8', flavor='stream', table_areas=['0,570,550,50'])\n",
    "last_table_11 = cl.read_pdf('pdfs/democracy-index_2011.pdf', pages='9', flavor='stream', table_areas=['0,570,550,200'])"
   ]
  },
  {
   "cell_type": "code",
   "execution_count": 36,
   "metadata": {},
   "outputs": [],
   "source": [
    "# concatenate the tables together into one big dataframe\n",
    "merged_df_11 = first_table_11[0].df\n",
    "for i in range(0, len(full_tables_11)):\n",
    "    merged_df_11 = pd.concat([merged_df_11, full_tables_11[i].df], ignore_index=True)\n",
    "\n",
    "# add the last table\n",
    "merged_df_11 = pd.concat([merged_df_11, last_table_11[0].df], ignore_index=True)\n",
    "\n",
    "# update the column headers\n",
    "merged_df_11.columns = [\n",
    "    'Country', 'Rank', 'Overall Score', \n",
    "    'Electoral Process and Pluralism', \n",
    "    'Functioning of Government',\n",
    "    'Political Participation',\n",
    "    'Political Culture',\n",
    "    'Civil Liberties'\n",
    "]"
   ]
  },
  {
   "cell_type": "code",
   "execution_count": null,
   "metadata": {},
   "outputs": [],
   "source": [
    "merged_df_11"
   ]
  },
  {
   "cell_type": "markdown",
   "metadata": {},
   "source": [
    "### 2012 Democracy Index"
   ]
  },
  {
   "cell_type": "code",
   "execution_count": 50,
   "metadata": {},
   "outputs": [],
   "source": [
    "# read the pdf and scrape the tables\n",
    "first_table_12 = cl.read_pdf('pdfs/democracy-index_2012.pdf', pages='4', flavor='stream', table_areas=['0,360,550,50'])\n",
    "full_tables_12 = cl.read_pdf('pdfs/democracy-index_2012.pdf', pages='5,6,7,8', flavor='stream', table_areas=['0,560,550,50'])\n",
    "last_table_12 = cl.read_pdf('pdfs/democracy-index_2012.pdf', pages='9', flavor='stream', table_areas=['0,560,550,260'])"
   ]
  },
  {
   "cell_type": "code",
   "execution_count": 57,
   "metadata": {},
   "outputs": [],
   "source": [
    "# concatenate the tables together into one big dataframe\n",
    "merged_df_12 = first_table_12[0].df\n",
    "for i in range(0, len(full_tables_12)):\n",
    "    merged_df_12 = pd.concat([merged_df_12, full_tables_12[i].df], ignore_index=True)\n",
    "\n",
    "# add the last table\n",
    "merged_df_12 = pd.concat([merged_df_12, last_table_12[0].df], ignore_index=True)\n",
    "\n",
    "# update the column headers\n",
    "merged_df_12.columns = [\n",
    "    'Country', 'Rank', 'Overall Score', \n",
    "    'Electoral Process and Pluralism', \n",
    "    'Functioning of Government',\n",
    "    'Political Participation',\n",
    "    'Political Culture',\n",
    "    'Civil Liberties'\n",
    "]"
   ]
  },
  {
   "cell_type": "code",
   "execution_count": null,
   "metadata": {},
   "outputs": [],
   "source": [
    "merged_df_12"
   ]
  },
  {
   "cell_type": "markdown",
   "metadata": {},
   "source": [
    "### 2013 Democracy Index"
   ]
  },
  {
   "cell_type": "code",
   "execution_count": 67,
   "metadata": {},
   "outputs": [],
   "source": [
    "# read the pdf and scrape the tables\n",
    "first_table_13 = cl.read_pdf('pdfs/democracy-index_2013.pdf', pages='4', flavor='stream', table_areas=['0,420,550,50'])\n",
    "full_tables_13 = cl.read_pdf('pdfs/democracy-index_2013.pdf', pages='5,6,7,8', flavor='stream', table_areas=['0,580,550,50'])\n",
    "last_table_13 = cl.read_pdf('pdfs/democracy-index_2013.pdf', pages='9', flavor='stream', table_areas=['0,580,550,400'])"
   ]
  },
  {
   "cell_type": "code",
   "execution_count": 77,
   "metadata": {},
   "outputs": [],
   "source": [
    "# concatenate the tables together into one big dataframe\n",
    "merged_df_13 = first_table_13[0].df\n",
    "for i in range(0, len(full_tables_13)):\n",
    "    merged_df_13 = pd.concat([merged_df_13, full_tables_13[i].df], ignore_index=True)\n",
    "\n",
    "# add the last table\n",
    "merged_df_13 = pd.concat([merged_df_13, last_table_13[0].df], ignore_index=True)\n",
    "\n",
    "# update the column headers\n",
    "merged_df_13.columns = [\n",
    "    'Country', 'Rank', 'Overall Score', \n",
    "    'Electoral Process and Pluralism', \n",
    "    'Functioning of Government',\n",
    "    'Political Participation',\n",
    "    'Political Culture',\n",
    "    'Civil Liberties'\n",
    "]"
   ]
  },
  {
   "cell_type": "code",
   "execution_count": null,
   "metadata": {},
   "outputs": [],
   "source": [
    "merged_df_13"
   ]
  },
  {
   "cell_type": "markdown",
   "metadata": {},
   "source": [
    "### 2014 Democracy Score"
   ]
  },
  {
   "cell_type": "code",
   "execution_count": 92,
   "metadata": {},
   "outputs": [],
   "source": [
    "first_table_14 = cl.read_pdf('pdfs/democracy-index_2014.pdf', pages='4', flavor='stream', table_areas=['0,140,550,50'])\n",
    "full_tables_14 = cl.read_pdf('pdfs/democracy-index_2014.pdf', pages='5,6,7,8,9', flavor='stream', table_areas=['0,570,550,70'])"
   ]
  },
  {
   "cell_type": "code",
   "execution_count": 99,
   "metadata": {},
   "outputs": [],
   "source": [
    "# concatenate the tables together into one big dataframe\n",
    "merged_df_14 = first_table_14[0].df\n",
    "for i in range(0, len(full_tables_14)):\n",
    "    merged_df_14 = pd.concat([merged_df_14, full_tables_14[i].df], ignore_index=True)\n",
    "\n",
    "# update the column headers\n",
    "merged_df_14.columns = [\n",
    "    'Country', 'Rank', 'Overall Score', \n",
    "    'Electoral Process and Pluralism', \n",
    "    'Functioning of Government',\n",
    "    'Political Participation',\n",
    "    'Political Culture',\n",
    "    'Civil Liberties'\n",
    "]"
   ]
  },
  {
   "cell_type": "code",
   "execution_count": null,
   "metadata": {},
   "outputs": [],
   "source": [
    "merged_df_14"
   ]
  },
  {
   "cell_type": "markdown",
   "metadata": {},
   "source": [
    "### 2015 Democracy Score"
   ]
  },
  {
   "cell_type": "code",
   "execution_count": 120,
   "metadata": {},
   "outputs": [],
   "source": [
    "full_tables_15 = cl.read_pdf('pdfs/democracy-index_2015.pdf', pages='5,6,7,8', flavor='stream', table_areas=['0,580,550,70'])\n",
    "last_table_15 = cl.read_pdf('pdfs/democracy-index_2015.pdf', pages='9', flavor='stream', table_areas=['0,580,550,150'])"
   ]
  },
  {
   "cell_type": "code",
   "execution_count": 127,
   "metadata": {},
   "outputs": [],
   "source": [
    "# concatenate the tables together into one big dataframe\n",
    "merged_df_15 = full_tables_15[0].df\n",
    "for i in range(1, len(full_tables_15)):\n",
    "    merged_df_15 = pd.concat([merged_df_15, full_tables_15[i].df], ignore_index=True)\n",
    "\n",
    "# add the last table\n",
    "merged_df_15 = pd.concat([merged_df_15, last_table_15[0].df], ignore_index=True)\n",
    "\n",
    "# update the column headers\n",
    "merged_df_15.columns = [\n",
    "    'Country', 'Rank', 'Overall Score', \n",
    "    'Electoral Process and Pluralism', \n",
    "    'Functioning of Government',\n",
    "    'Political Participation',\n",
    "    'Political Culture',\n",
    "    'Civil Liberties'\n",
    "]"
   ]
  },
  {
   "cell_type": "code",
   "execution_count": null,
   "metadata": {},
   "outputs": [],
   "source": [
    "merged_df_15"
   ]
  },
  {
   "cell_type": "markdown",
   "metadata": {},
   "source": [
    "### 2016 Democracy Index"
   ]
  },
  {
   "cell_type": "code",
   "execution_count": null,
   "metadata": {},
   "outputs": [],
   "source": [
    "full_tables_16 = cl.read_pdf('pdfs/democracy-index_2016.pdf', pages='9,10,11,12', flavor='stream', table_areas=['0,580,550,70'])\n",
    "last_table_16 = cl.read_pdf('pdfs/democracy-index_2016.pdf', pages='13', flavor='stream', table_areas=['0,580,550,190'])"
   ]
  },
  {
   "cell_type": "code",
   "execution_count": 141,
   "metadata": {},
   "outputs": [],
   "source": [
    "# concatenate the tables together into one big dataframe\n",
    "merged_df_16 = full_tables_16[0].df\n",
    "for i in range(1, len(full_tables_16)):\n",
    "    merged_df_16 = pd.concat([merged_df_16, full_tables_16[i].df], ignore_index=True)\n",
    "\n",
    "# add the last table\n",
    "merged_df_16 = pd.concat([merged_df_16, last_table_16[0].df], ignore_index=True)\n",
    "\n",
    "# update the column headers\n",
    "merged_df_16.columns = [\n",
    "    'Country', 'Rank', 'Overall Score', \n",
    "    'Electoral Process and Pluralism', \n",
    "    'Functioning of Government',\n",
    "    'Political Participation',\n",
    "    'Political Culture',\n",
    "    'Civil Liberties'\n",
    "]"
   ]
  },
  {
   "cell_type": "code",
   "execution_count": null,
   "metadata": {},
   "outputs": [],
   "source": [
    "merged_df_16"
   ]
  },
  {
   "cell_type": "markdown",
   "metadata": {},
   "source": [
    "### 2017 Democracy Scores"
   ]
  },
  {
   "cell_type": "code",
   "execution_count": null,
   "metadata": {},
   "outputs": [],
   "source": [
    "full_tables_17 = cl.read_pdf('pdfs/democracy-index_2017.pdf', pages='7,8,9,10', flavor='stream', table_areas=['0,620,550,70'])\n",
    "last_table_17 = cl.read_pdf('pdfs/democracy-index_2017.pdf', pages='11', flavor='stream', table_areas=['0,610,550,350'])"
   ]
  },
  {
   "cell_type": "code",
   "execution_count": 15,
   "metadata": {},
   "outputs": [],
   "source": [
    "# concatenate the tables together into one big dataframe\n",
    "merged_df_17 = full_tables_17[0].df\n",
    "for i in range(1, len(full_tables_17)):\n",
    "    merged_df_17 = pd.concat([merged_df_17, full_tables_17[i].df], ignore_index=True)\n",
    "\n",
    "# add the last table\n",
    "merged_df_17 = pd.concat([merged_df_17, last_table_17[0].df], ignore_index=True)\n",
    "\n",
    "# update the column headers\n",
    "merged_df_17.columns = [\n",
    "    'Country', 'Rank', 'Overall Score', \n",
    "    'Electoral Process and Pluralism', \n",
    "    'Functioning of Government',\n",
    "    'Political Participation',\n",
    "    'Political Culture',\n",
    "    'Civil Liberties'\n",
    "]"
   ]
  },
  {
   "cell_type": "code",
   "execution_count": 16,
   "metadata": {},
   "outputs": [
    {
     "data": {
      "text/html": [
       "<div>\n",
       "<style scoped>\n",
       "    .dataframe tbody tr th:only-of-type {\n",
       "        vertical-align: middle;\n",
       "    }\n",
       "\n",
       "    .dataframe tbody tr th {\n",
       "        vertical-align: top;\n",
       "    }\n",
       "\n",
       "    .dataframe thead th {\n",
       "        text-align: right;\n",
       "    }\n",
       "</style>\n",
       "<table border=\"1\" class=\"dataframe\">\n",
       "  <thead>\n",
       "    <tr style=\"text-align: right;\">\n",
       "      <th></th>\n",
       "      <th>Country</th>\n",
       "      <th>Rank</th>\n",
       "      <th>Overall Score</th>\n",
       "      <th>Electoral Process and Pluralism</th>\n",
       "      <th>Functioning of Government</th>\n",
       "      <th>Political Participation</th>\n",
       "      <th>Political Culture</th>\n",
       "      <th>Civil Liberties</th>\n",
       "    </tr>\n",
       "  </thead>\n",
       "  <tbody>\n",
       "    <tr>\n",
       "      <th>0</th>\n",
       "      <td></td>\n",
       "      <td></td>\n",
       "      <td></td>\n",
       "      <td>Full democracies</td>\n",
       "      <td></td>\n",
       "      <td></td>\n",
       "      <td></td>\n",
       "      <td></td>\n",
       "    </tr>\n",
       "    <tr>\n",
       "      <th>1</th>\n",
       "      <td>Norway</td>\n",
       "      <td>1</td>\n",
       "      <td>9.87</td>\n",
       "      <td>10.00</td>\n",
       "      <td>9.64</td>\n",
       "      <td>10.00</td>\n",
       "      <td>10.00</td>\n",
       "      <td>9.71</td>\n",
       "    </tr>\n",
       "    <tr>\n",
       "      <th>2</th>\n",
       "      <td>Iceland</td>\n",
       "      <td>2</td>\n",
       "      <td>9.58</td>\n",
       "      <td>10.00</td>\n",
       "      <td>9.29</td>\n",
       "      <td>8.89</td>\n",
       "      <td>10.00</td>\n",
       "      <td>9.71</td>\n",
       "    </tr>\n",
       "    <tr>\n",
       "      <th>3</th>\n",
       "      <td>Sweden</td>\n",
       "      <td>3</td>\n",
       "      <td>9.39</td>\n",
       "      <td>9.58</td>\n",
       "      <td>9.64</td>\n",
       "      <td>8.33</td>\n",
       "      <td>10.00</td>\n",
       "      <td>9.41</td>\n",
       "    </tr>\n",
       "    <tr>\n",
       "      <th>4</th>\n",
       "      <td>New Zealand</td>\n",
       "      <td>4</td>\n",
       "      <td>9.26</td>\n",
       "      <td>10.00</td>\n",
       "      <td>9.29</td>\n",
       "      <td>8.89</td>\n",
       "      <td>8.13</td>\n",
       "      <td>10.00</td>\n",
       "    </tr>\n",
       "    <tr>\n",
       "      <th>...</th>\n",
       "      <td>...</td>\n",
       "      <td>...</td>\n",
       "      <td>...</td>\n",
       "      <td>...</td>\n",
       "      <td>...</td>\n",
       "      <td>...</td>\n",
       "      <td>...</td>\n",
       "      <td>...</td>\n",
       "    </tr>\n",
       "    <tr>\n",
       "      <th>166</th>\n",
       "      <td>Democratic Republic of Congo</td>\n",
       "      <td>163</td>\n",
       "      <td>1.61</td>\n",
       "      <td>0.50</td>\n",
       "      <td>0.71</td>\n",
       "      <td>2.22</td>\n",
       "      <td>3.75</td>\n",
       "      <td>0.88</td>\n",
       "    </tr>\n",
       "    <tr>\n",
       "      <th>167</th>\n",
       "      <td>Central African Republic</td>\n",
       "      <td>164</td>\n",
       "      <td>1.52</td>\n",
       "      <td>2.25</td>\n",
       "      <td>0.00</td>\n",
       "      <td>1.11</td>\n",
       "      <td>1.88</td>\n",
       "      <td>2.35</td>\n",
       "    </tr>\n",
       "    <tr>\n",
       "      <th>168</th>\n",
       "      <td>Chad</td>\n",
       "      <td>165</td>\n",
       "      <td>1.50</td>\n",
       "      <td>0.00</td>\n",
       "      <td>0.00</td>\n",
       "      <td>1.11</td>\n",
       "      <td>3.75</td>\n",
       "      <td>2.65</td>\n",
       "    </tr>\n",
       "    <tr>\n",
       "      <th>169</th>\n",
       "      <td>Syria</td>\n",
       "      <td>166</td>\n",
       "      <td>1.43</td>\n",
       "      <td>0.00</td>\n",
       "      <td>0.00</td>\n",
       "      <td>2.78</td>\n",
       "      <td>4.38</td>\n",
       "      <td>0.00</td>\n",
       "    </tr>\n",
       "    <tr>\n",
       "      <th>170</th>\n",
       "      <td>North Korea</td>\n",
       "      <td>167</td>\n",
       "      <td>1.08</td>\n",
       "      <td>0.00</td>\n",
       "      <td>2.50</td>\n",
       "      <td>1.67</td>\n",
       "      <td>1.25</td>\n",
       "      <td>0.00</td>\n",
       "    </tr>\n",
       "  </tbody>\n",
       "</table>\n",
       "<p>171 rows × 8 columns</p>\n",
       "</div>"
      ],
      "text/plain": [
       "                          Country Rank Overall Score  \\\n",
       "0                                                      \n",
       "1                          Norway    1          9.87   \n",
       "2                         Iceland    2          9.58   \n",
       "3                          Sweden    3          9.39   \n",
       "4                     New Zealand    4          9.26   \n",
       "..                            ...  ...           ...   \n",
       "166  Democratic Republic of Congo  163          1.61   \n",
       "167      Central African Republic  164          1.52   \n",
       "168                          Chad  165          1.50   \n",
       "169                         Syria  166          1.43   \n",
       "170                   North Korea  167          1.08   \n",
       "\n",
       "    Electoral Process and Pluralism Functioning of Government  \\\n",
       "0                  Full democracies                             \n",
       "1                             10.00                      9.64   \n",
       "2                             10.00                      9.29   \n",
       "3                              9.58                      9.64   \n",
       "4                             10.00                      9.29   \n",
       "..                              ...                       ...   \n",
       "166                            0.50                      0.71   \n",
       "167                            2.25                      0.00   \n",
       "168                            0.00                      0.00   \n",
       "169                            0.00                      0.00   \n",
       "170                            0.00                      2.50   \n",
       "\n",
       "    Political Participation Political Culture Civil Liberties  \n",
       "0                                                              \n",
       "1                     10.00             10.00            9.71  \n",
       "2                      8.89             10.00            9.71  \n",
       "3                      8.33             10.00            9.41  \n",
       "4                      8.89              8.13           10.00  \n",
       "..                      ...               ...             ...  \n",
       "166                    2.22              3.75            0.88  \n",
       "167                    1.11              1.88            2.35  \n",
       "168                    1.11              3.75            2.65  \n",
       "169                    2.78              4.38            0.00  \n",
       "170                    1.67              1.25            0.00  \n",
       "\n",
       "[171 rows x 8 columns]"
      ]
     },
     "execution_count": 16,
     "metadata": {},
     "output_type": "execute_result"
    }
   ],
   "source": [
    "merged_df_17"
   ]
  },
  {
   "cell_type": "markdown",
   "metadata": {},
   "source": [
    "### 2018 Democracy Index"
   ]
  },
  {
   "cell_type": "code",
   "execution_count": null,
   "metadata": {},
   "outputs": [],
   "source": []
  },
  {
   "cell_type": "code",
   "execution_count": null,
   "metadata": {},
   "outputs": [],
   "source": [
    "# visual debugging \n",
    "debug = cl.plot(last_table_17[0], kind=\"text\")\n",
    "debug"
   ]
  },
  {
   "cell_type": "markdown",
   "metadata": {},
   "source": [
    "### 2023 Democracy Index\n",
    "\n",
    "**Can get entire table of scores over time from this PDF**"
   ]
  }
 ],
 "metadata": {
  "kernelspec": {
   "display_name": "Python 3",
   "language": "python",
   "name": "python3"
  },
  "language_info": {
   "codemirror_mode": {
    "name": "ipython",
    "version": 3
   },
   "file_extension": ".py",
   "mimetype": "text/x-python",
   "name": "python",
   "nbconvert_exporter": "python",
   "pygments_lexer": "ipython3",
   "version": "3.11.2"
  }
 },
 "nbformat": 4,
 "nbformat_minor": 2
}

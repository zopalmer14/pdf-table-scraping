{
 "cells": [
  {
   "cell_type": "markdown",
   "metadata": {},
   "source": [
    "### Electoral Parties PDF Table Scraping \n",
    "\n",
    "**Tables contain data about the number of political parties present in a variety of countries over time**\n",
    "\n",
    "**By: Zach Palmer**"
   ]
  },
  {
   "cell_type": "code",
   "execution_count": 1,
   "metadata": {},
   "outputs": [],
   "source": [
    "# import in packages\n",
    "import pandas as pd\n",
    "import numpy as np\n",
    "import camelot as cl\n",
    "\n",
    "import matplotlib.pyplot as plt\n",
    "%matplotlib inline"
   ]
  },
  {
   "cell_type": "code",
   "execution_count": 50,
   "metadata": {},
   "outputs": [],
   "source": [
    "# read the pdf and scrape the tables\n",
    "electoral_tables = cl.read_pdf (\n",
    "    filepath='pdfs/ElectionIndices.pdf', \n",
    "    pages='5-49', \n",
    "    flavor='stream', \n",
    "    table_areas=['0,770,420,0']\n",
    ")"
   ]
  },
  {
   "cell_type": "code",
   "execution_count": null,
   "metadata": {},
   "outputs": [],
   "source": [
    "# concatenate the tables together into one big dataframe\n",
    "merged_df = electoral_tables[0].df\n",
    "for i in range(1, len(electoral_tables)):\n",
    "    merged_df = pd.concat([merged_df, electoral_tables[i].df], ignore_index=True)\n",
    "\n",
    "# update the column headers\n",
    "merged_df.columns = ['Year', 'LSq', 'Eff Nv', 'Eff Ns', 'N Seats']\n",
    "\n",
    "# remove the extraneous rows\n",
    "merged_df = merged_df.query('Year != \"See Notes.\"')\n",
    "\n",
    "# fix the string formatting in many of the country names\n",
    "merged_df = merged_df.replace(r'\\n', '', regex=True)"
   ]
  },
  {
   "cell_type": "code",
   "execution_count": 61,
   "metadata": {},
   "outputs": [],
   "source": [
    "# write the dataframe out to a csv file\n",
    "merged_df.to_csv('electoral_party_data.csv', index=False) "
   ]
  }
 ],
 "metadata": {
  "kernelspec": {
   "display_name": "Python 3",
   "language": "python",
   "name": "python3"
  },
  "language_info": {
   "codemirror_mode": {
    "name": "ipython",
    "version": 3
   },
   "file_extension": ".py",
   "mimetype": "text/x-python",
   "name": "python",
   "nbconvert_exporter": "python",
   "pygments_lexer": "ipython3",
   "version": "3.11.2"
  }
 },
 "nbformat": 4,
 "nbformat_minor": 2
}
